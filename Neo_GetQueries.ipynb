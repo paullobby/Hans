{
  "nbformat": 4,
  "nbformat_minor": 0,
  "metadata": {
    "kernelspec": {
      "display_name": "Python 3",
      "language": "python",
      "name": "python3"
    },
    "language_info": {
      "codemirror_mode": {
        "name": "ipython",
        "version": 3
      },
      "file_extension": ".py",
      "mimetype": "text/x-python",
      "name": "python",
      "nbconvert_exporter": "python",
      "pygments_lexer": "ipython3",
      "version": "3.7.4"
    },
    "colab": {
      "name": "Neo-GetQueries.ipynb",
      "provenance": [],
      "include_colab_link": true
    }
  },
  "cells": [
    {
      "cell_type": "markdown",
      "metadata": {
        "id": "view-in-github",
        "colab_type": "text"
      },
      "source": [
        "<a href=\"https://colab.research.google.com/github/paullobby/Hans/blob/master/Neo_GetQueries.ipynb\" target=\"_parent\"><img src=\"https://colab.research.google.com/assets/colab-badge.svg\" alt=\"Open In Colab\"/></a>"
      ]
    },
    {
      "cell_type": "code",
      "metadata": {
        "id": "KZwCrnZPxHg3"
      },
      "source": [
        "#!pip install --upgrade gspread"
      ],
      "execution_count": 31,
      "outputs": []
    },
    {
      "cell_type": "code",
      "metadata": {
        "id": "BIyeTmcvjWCL"
      },
      "source": [
        "import requests\n",
        "import json\n",
        "import pandas as pd\n",
        "from google.colab import auth\n",
        "auth.authenticate_user()\n",
        "from gspread_dataframe import get_as_dataframe, set_with_dataframe\n",
        "import gspread\n",
        "from oauth2client.client import GoogleCredentials\n",
        "gc = gspread.authorize(GoogleCredentials.get_application_default())"
      ],
      "execution_count": 10,
      "outputs": []
    },
    {
      "cell_type": "markdown",
      "metadata": {
        "id": "_CA-PCUojE6D"
      },
      "source": [
        "1. CONNECTIONS"
      ]
    },
    {
      "cell_type": "code",
      "metadata": {
        "colab": {
          "base_uri": "https://localhost:8080/"
        },
        "id": "yxHfE4stjE6E",
        "outputId": "dbf65c58-9f69-4282-d5b2-0a0a32602d5a"
      },
      "source": [
        "listVisxEvents='''\n",
        "  {\n",
        "    listVisxEvents (limit: 2000){\n",
        "      items{\n",
        "        event_id:id\n",
        "        display_name\n",
        "        from_date\n",
        "        to_date\n",
        "        url\n",
        "        retailer_id\n",
        "        store_id\n",
        "        createdAt\n",
        "        updatedAt\n",
        "        shoppers{\n",
        "            items{\n",
        "                shopper_id\n",
        "                email\n",
        "                createdAt\n",
        "            }\n",
        "        }\n",
        "      }\n",
        "    }\n",
        "  }\n",
        "  '''\n",
        "\n",
        "testEvents = [\n",
        "    '32ad6c71-4066-420b-a641-52ab22a6a77f',\n",
        "    '9208c040-53a3-4c6b-825d-3862e0ade532',\n",
        "    '1079126a-ac86-47e0-b65e-7c76eec15dfe',\n",
        "    '05d6715f-b89c-46ab-a490-c475723d293a',\n",
        "  ]\n",
        "\n",
        "\n",
        "listStores = '''\n",
        "  {\n",
        "    listStores{\n",
        "      items{\n",
        "        store_id:id\n",
        "        store_name:name\n",
        "        retailer{\n",
        "          name\n",
        "        }\n",
        "      }\n",
        "    }\n",
        "  }\n",
        "  '''\n",
        "\n",
        "listRetailers = '''\n",
        "  {\n",
        "    listRetailers{\n",
        "      items{\n",
        "        id\n",
        "        name\n",
        "        stores{\n",
        "            items{\n",
        "                id\n",
        "                name\n",
        "        }\n",
        "            \n",
        "        }\n",
        "      }\n",
        "    }\n",
        "  }\n",
        "  '''\n",
        "\n",
        "fake = [\n",
        "  'e7c53e26-65c0-40c8-97ee-a1f32c31108a',\n",
        "  'f1bab62b-0737-4883-a300-d8eeb2151da9',\n",
        "  '883123bc-27aa-4e3b-9c9d-0030244daeba',\n",
        "  '4df87827-c20d-414c-8348-33f9a195ab32',\n",
        "  '3eae4878-a767-4553-9c3e-a9d95e639c98',\n",
        "  '801991da-fe85-41e4-bee3-d1b6714fb49f',\n",
        "  '6cafd559-aa02-49b3-add3-dc04366bd650',\n",
        "  'a5da6672-70f7-47e0-9a8a-31be68e2b473',\n",
        "  '64a775de-4622-4287-bb61-347f71588ba4',\n",
        "  '8c8d3c5c-b0e7-4d09-a96e-340b465d2c61',\n",
        "  '1ae795c4-5782-446c-8a50-881ff61a7821',\n",
        "  'b7108a9b-1667-4935-8db7-df096853365c',\n",
        "  '1805bce6-e586-4ece-b087-20e2c22509a5',\n",
        "  'c2974fb4-de42-45d2-90de-5e117efbda7e',\n",
        "  '8511bf9d-fedd-480c-a9fe-f727a123609a',\n",
        "  '214ee341-04ef-4caa-b7c4-6f34d2e66477',\n",
        "  '19c57ece-855f-41cc-88a1-1aada9fec2b0',\n",
        "  '8b3e6549-99ee-4f04-9e53-f1aebea0c293',\n",
        "  'f14d29bb-818b-429b-9201-847c95873388',\n",
        "  'd724f16a-4440-4f2b-b3cd-7c811ed2e13f',\n",
        "  '21232142-40e8-4091-a8fb-ca797210c2b8',\n",
        "  'b280284f-1506-4029-bf36-a96b9effdbb9',\n",
        "  'aa1ba114-02ba-4dc4-92a9-1540f89112c8',\n",
        "  '76f731f6-3bd4-46d7-94a2-e9a3f820e9da',\n",
        "  'd2449faa-4e4e-482f-8354-0b0f11cc089f',\n",
        "  'eecf41f6-a72d-40f3-9fc8-7e032bd77d43',\n",
        "      '31df40a9-7f25-4ea4-bd30-12d67feec5d1',\n",
        "      'b8eaf504-33e1-42fb-881a-1fd5b658eeff',\n",
        "    '122c2ca5-09d8-4dda-a9fa-2664b12ae866',\n",
        "      '413f66d6-813c-405b-911f-dcff3471f095',\n",
        "      \n",
        "      \n",
        "  ]\n",
        "\n",
        "\n",
        "fakeEmails = ['rberger@ibd.com',\n",
        "  'laura@onnyway.com',\n",
        "  'jlopardi@trinaturk.com',\n",
        "  'tiffanyyy1122@gmail.com',\n",
        "  'jason@comcapllc.com',\n",
        "  'laura@thegiddings.com',\n",
        "  'tiziana.lanza@yahoo.com',\n",
        "  'fdfgfc@gnail.com',\n",
        "  'yamujiang.tan@gmail.com',\n",
        "  'meline_wong@margiela.com',\n",
        "  'cameronckurtz@gmail.com',\n",
        "  'asdfg@gfdsa.org',\n",
        "  'laura@omnuway.com',\n",
        "  'burlingame@trinaturk.com',\n",
        "  'emily_ciafone@margiela.com',\n",
        "  'kelly.vitale@sbcglobal.net',\n",
        "  'skirksey@trinaturk.com',\n",
        "  'kurt.ivey@macerich.com',\n",
        "  'kcavaleri@trinaturk.com',\n",
        "  'annie_ng@marni.com',\n",
        "  'trinaturk@omnway.com',\n",
        "  'tiziana_lanza@margiela.com',\n",
        "  'scott.sutherlanf@ggp.com',\n",
        "  'camk1251@aol.com',\n",
        "  'nicole.zajdel@brookfieldpropertiesretail.com',\n",
        "  'accounting@hammermade.com',\n",
        "  'Micaela.wargo@brookfieldpropertiesretail.com',\n",
        "  'asummers@trinaturk.com',\n",
        "  'trinaturk3@test.com',\n",
        "  'trinaturk1@test.com',\n",
        "  'trinaturk2@test.com',\n",
        "      'laura.collins@brookfieldpropertiesretail.com',\n",
        "      'lindaxrobinson@gmail.com',\n",
        "      'CAMERONCKURTZ@GMAIL.COM',\n",
        "      'ty@gmail.com',\n",
        "      'adrianjwenzel@gmail.com',\n",
        "      '1@2.com',\n",
        "      't@gmail.com',\n",
        "      'GIOVANNA.VIEIRA@GANNI.DK',\n",
        "      'khanmx99@gmail.com',\n",
        "      'rose@rosenyc.me',\n",
        "      'amitaabh.malhotra@gmail.com'\n",
        "      \n",
        "  ]\n",
        "\n",
        "retailer_email=['3nyboutiques.com',\n",
        "                'danielpatrick.net',\n",
        "                'margiela.com',\n",
        "                'marni.com', \n",
        "                'trinaturk.com',\n",
        "                'ganni.dk', \n",
        "                'ganni.com',\n",
        "                'vince.com',\n",
        "                'sammalouf.com',\n",
        "                'allsaints.com', \n",
        "                'valentino.com',\n",
        "                'thewebster.us',\n",
        "                'evereve.com',\n",
        "                'hammermade.com',\n",
        "                'shagglund.com',\n",
        "                'godashdot.com',\n",
        "                'usa.maxmara.com',\n",
        "                'maximasrl.it']\n",
        "\n",
        "#CONNECTION\n",
        "api_token = 'da2-ikipwdre3fhf3jybsjgui73dg4'\n",
        "headers = {'x-api-key': api_token}\n",
        "url = 'https://ef4sj5sa6nbktijcrgrbzjqgyy.appsync-api.us-east-1.amazonaws.com/graphql'\n",
        "\n",
        "#connect to listRetailers query\n",
        "r = requests.post(url, json={'query': listRetailers}, headers=headers)\n",
        "print('listRetailers query is {}'.format(r.status_code))\n",
        "json_data=json.loads(r.text)\n",
        "df_data = json_data['data']['listRetailers']['items']\n",
        "listRetailer = pd.json_normalize(df_data)\n",
        "\n",
        "#connect to listEvents query\n",
        "r = requests.post(url, json={'query': listVisxEvents}, headers=headers)\n",
        "print('listEvents query is {}'.format(r.status_code))\n",
        "json_data=json.loads(r.text)\n",
        "df_data = json_data['data']['listVisxEvents']['items']\n",
        "events = pd.json_normalize(df_data)\n",
        "\n",
        "#connect to listStores query\n",
        "r_ls = requests.post(url, json={'query': listStores}, headers=headers)\n",
        "print('listStores query is {}'.format(r_ls.status_code))\n",
        "#load data from listStores\n",
        "json_data_ls=json.loads(r_ls.text)\n",
        "df_data_ls = json_data_ls['data']['listStores']['items']\n",
        "stores = pd.json_normalize(df_data_ls)\n",
        "stores = stores[['store_id','store_name','retailer.name']]\n"
      ],
      "execution_count": 2,
      "outputs": [
        {
          "output_type": "stream",
          "text": [
            "listRetailers query is 200\n",
            "listEvents query is 200\n",
            "listStores query is 200\n"
          ],
          "name": "stdout"
        }
      ]
    },
    {
      "cell_type": "markdown",
      "metadata": {
        "id": "eARLKesnjE6F"
      },
      "source": [
        "2.FUNCTIONS"
      ]
    },
    {
      "cell_type": "code",
      "metadata": {
        "id": "w1tuurccjE6G"
      },
      "source": [
        "def getBagsByRetailer(a):\n",
        "    getBagsByRetailer='''\n",
        "    {{getBagsByRetailer(limit:2000, retailer_id:\"{}\")  {{\n",
        "        items {{\n",
        "          bag_id:id\n",
        "          shopper_id\n",
        "          createdAt\n",
        "          retailer_total\n",
        "          total\n",
        "          sub_total\n",
        "          shipping_fee\n",
        "          fulfillment_type\n",
        "          payment{{\n",
        "            createdAt\n",
        "          }}\n",
        "          event{{\n",
        "            id\n",
        "            display_name\n",
        "            from_date\n",
        "            to_date\n",
        "            url\n",
        "            store{{\n",
        "              id\n",
        "              name\n",
        "              retailer {{\n",
        "                name\n",
        "              }}\n",
        "            }}\n",
        "          }}\n",
        "          shopper{{\n",
        "            display_name\n",
        "            email\n",
        "            shipping_name\n",
        "          }}\n",
        "          shipping{{\n",
        "          name,\n",
        "          address_line_1\n",
        "          address_line_2\n",
        "          city\n",
        "          state\n",
        "          postal_code\n",
        "          email\n",
        "          }}\n",
        "          line_items{{\n",
        "            sku_id\n",
        "            retailer_sku_id\n",
        "            name\n",
        "            quantity\n",
        "            list_price\n",
        "            price\n",
        "            size\n",
        "            color\n",
        "          }}\n",
        "        }}\n",
        "      }}\n",
        "    }}\n",
        "    '''.format(a)\n",
        "    \n",
        "    #connect to listEvents query\n",
        "    r = requests.post(url, json={'query': getBagsByRetailer}, headers=headers)\n",
        "    print('getBagsByRetailer query is {}'.format(r.status_code))\n",
        "    json_data=json.loads(r.text)\n",
        "    df_data = json_data['data']['getBagsByRetailer']['items']\n",
        "    bags = pd.io.json.json_normalize(df_data)\n",
        "    return bags\n",
        "\n",
        "def getShoppersByRetailer(a):\n",
        "    getShoppersByRetailer='''\n",
        "    {{getShoppersByRetailer(limit:2000, retailer_id:\"{}\")  {{\n",
        "        items {{\n",
        "          shopper_event_id:id\n",
        "          shopper{{\n",
        "            id\n",
        "            display_name\n",
        "            email\n",
        "            phone\n",
        "          }}\n",
        "          createdAt\n",
        "          event{{\n",
        "            id\n",
        "            display_name\n",
        "            from_date\n",
        "            to_date\n",
        "            url\n",
        "            store{{\n",
        "              id\n",
        "              name\n",
        "              retailer {{\n",
        "                name\n",
        "              }}\n",
        "            }}\n",
        "          }}\n",
        "        }}\n",
        "      }}\n",
        "    }}\n",
        "    '''.format(a)\n",
        "    \n",
        "    #connect to listEvents query\n",
        "    r = requests.post(url, json={'query': getShoppersByRetailer}, headers=headers)\n",
        "    print('getShoppersByRetailer query is {}'.format(r.status_code))\n",
        "    json_data=json.loads(r.text)\n",
        "    df_data = json_data['data']['getShoppersByRetailer']['items']\n",
        "    shoppers = pd.io.json.json_normalize(df_data)\n",
        "    return shoppers\n",
        "\n",
        "def getPaymentsByRetailer(a):\n",
        "    getPaymentsByRetailer='''\n",
        "    {{getPaymentsByRetailer(limit:2000, retailer_id:\"{}\") {{\n",
        "        items{{\n",
        "          id\n",
        "          createdAt\n",
        "          status\n",
        "          bag{{\n",
        "            id\n",
        "            shopper_id\n",
        "            shopper{{\n",
        "             id\n",
        "             email\n",
        "            }}\n",
        "            event_id\n",
        "            sub_total\n",
        "            tax\n",
        "            retailer_total\n",
        "            total\n",
        "            service_fee\n",
        "            shipping_fee\n",
        "            shipping_method\n",
        "            fulfillment_type\n",
        "            event{{\n",
        "                display_name\n",
        "                from_date\n",
        "                store{{\n",
        "                    id\n",
        "                    name\n",
        "                    retailer{{\n",
        "                        id\n",
        "                        name\n",
        "                    }}\n",
        "                }}\n",
        "\n",
        "            }}\n",
        "            line_items{{\n",
        "              retailer_sku_id\n",
        "              name\n",
        "              quantity\n",
        "              list_price\n",
        "              price\n",
        "              size\n",
        "              color\n",
        "            }}\n",
        "            shipping{{\n",
        "                name\n",
        "                address_line_1\n",
        "                address_line_2\n",
        "                city\n",
        "                state\n",
        "                postal_code\n",
        "                email\n",
        "            }}\n",
        "          }}\n",
        "        }}\n",
        "      }}\n",
        "    }}\n",
        "    '''.format(a)\n",
        "    \n",
        "    #connect to getPaymentsByRetailer query\n",
        "    r = requests.post(url, json={'query': getPaymentsByRetailer}, headers=headers)\n",
        "    print('getPaymentsByStatus query is {}'.format(r.status_code))\n",
        "    json_data=json.loads(r.text)\n",
        "    df_data = json_data['data']['getPaymentsByRetailer']['items']\n",
        "    payments = pd.io.json.json_normalize(df_data)\n",
        "    payments = payments.rename({'bag.shopper.id':'shopper_event_id',\n",
        "                                'bag.shopper.email':'shopper.email',\n",
        "                                'bag.event.from_date':'event.from_date',\n",
        "                                'bag.line_items':'line_items',\n",
        "                                'bag.event.display_name':'event.display_name',\n",
        "                                'bag.total':'total',\n",
        "                                'bag.retailer_total':'retailer_total',\n",
        "                                'bag.sub_total':'sub_total',\n",
        "                                'bag.service_fee':'service_fee',\n",
        "                                'bag.shipping_fee':'shipping_fee',\n",
        "                                'bag.event_id':'event.id'},axis=1)\n",
        "    \n",
        "    return payments\n",
        "\n",
        "\n",
        "#filter only real and latest events\n",
        "def clean_event(a):\n",
        "    a = a[        (a['from_date'].str.contains('2021', regex=True))\n",
        "                   & (~a['display_name'].str.contains('Test|demo|trial|rehearsal|example|rob',case=False, regex=True))\n",
        "                    &(~a['store_id'].isin(fake))\n",
        "                  &(~a['event_id'].isin(testEvents))\n",
        "                   & (a['display_name'].str.len()>10)\n",
        "                   &(~a['retailer.name'].str.contains('Test|store|admin|cake|shopper|tanya|retail|greg|manrico',case=False, regex=True))]\n",
        "    return a\n",
        "\n",
        "#remove fake and internal shopper emails\n",
        "def removing(a):\n",
        "    #split emails\n",
        "    email = a['shopper.email']\n",
        "    email_name=[]\n",
        "    email_address=[]\n",
        "    for e in email:\n",
        "        x = e.split('@')[0].strip()\n",
        "        y = e.split('@')[1].strip() #.split('.')[0]\n",
        "        email_name.append(x)\n",
        "        email_address.append(y)\n",
        "        \n",
        "    #email_name=map(lambda x:x.lower(),email_name)\n",
        "    email_address= [x.lower() for x in email_address]\n",
        "    a['email_name']=email_name\n",
        "    a['email_address']=email_address\n",
        "\n",
        "    a = a[(~a['email_address'].isin(retailer_email)) \n",
        "             & (a['email_address'] != 'omnyway.com')\n",
        "             & (~a['shopper.email'].isin(fakeEmails))\n",
        "             & (a['event.id'].isin(esn['event_id']) )\n",
        "             & (a['email_name'].str.len()>3) \n",
        "            ].copy()\n",
        "    return a \n",
        "\n",
        "def cleanBagList(a):\n",
        "    #remove empty stuff\n",
        "    a = a[a['total'].notna() & a['line_items'].notna() & a['event.id'].notna() & a['shopper.email'].notna()& a['event.display_name'].notna()]\n",
        "    a = a[        (a['event.from_date'].str.contains('2021', regex=True))\n",
        "                   & (~a['event.display_name'].str.contains('Test|demo|trial|rehearsal|example|rob',case=False, regex=True))]\n",
        "    #total to divide by 100\n",
        "    a['total'] = a['total'].div(100).round(2)\n",
        "    a['retailer_total'] = a['retailer_total'].div(100).round(2)\n",
        "    a['sub_total'] = a['sub_total'].div(100).round(2)\n",
        "    #add num\n",
        "    num_of_items = a['line_items'].str.len()\n",
        "    a['num_of_items']=num_of_items\n",
        "    a.drop(['event','payment','shopper'],axis=1,inplace=True)\n",
        "    a.fillna(value='',inplace=True)\n",
        "    return a\n",
        "\n",
        "def cleanPayList(a):\n",
        "    #remove empty stuff\n",
        "    a = a[a['total'].notna() & a['line_items'].notna() & a['event.id'].notna() & a['shopper.email'].notna()& a['event.display_name'].notna()]\n",
        "    a = a[        (a['event.from_date'].str.contains('2021', regex=True))\n",
        "                   & (~a['event.display_name'].str.contains('Test|demo|trial|rehearsal|example|rob',case=False, regex=True))]\n",
        "    #total to divide by 100\n",
        "    a['total'] = a['total'].div(100).round(2)\n",
        "    a['retailer_total'] = a['retailer_total'].div(100).round(2)\n",
        "    a['sub_total'] = a['sub_total'].div(100).round(2)\n",
        "    #a['bag.tax'] = a['bag.tax'].div(100).round(2)\n",
        "    #add num\n",
        "    num_of_items = a['line_items'].str.len()\n",
        "    a['num_of_items']=num_of_items\n",
        "    a.drop(['bag.shipping','bag.event','bag.shopper'],axis=1,inplace=True)\n",
        "    a.fillna(value='',inplace=True)\n",
        "    return a\n",
        "\n",
        "def cleanShopperList(a):\n",
        "    a = a[ a['event.id'].notna() & a['shopper.email'].notna()]\n",
        "    a = a[        (a['event.from_date'].str.contains('2021', regex=True))\n",
        "                   & (~a['event.display_name'].str.contains('Test|demo|trial|rehearsal|example|rob',case=False, regex=True))]\n",
        "    a = a[a['shopper.email'].str.contains(r'[^@]+@[^@]+\\.[^@]+')]\n",
        "    a.fillna(value='',inplace=True)\n",
        "    return a\n",
        "\n",
        "def clean_retailer(a):\n",
        "    a = a[ (~a['name'].str.contains('Test|store|admin|cake|shopper|tanya|retail|greg|manrico',case=False, regex=True))]\n",
        "    return a\n",
        "\n",
        "def clean_stores(a):\n",
        "    a = a[a['retailer.name'].notna()]\n",
        "    a = a[(~a['store_id'].isin(fake))\n",
        "         &(~a['retailer.name'].str.contains('Test|store|admin|cake|shopper|tanya|retail|greg|manrico',case=False, regex=True))]\n",
        "    return a"
      ],
      "execution_count": 3,
      "outputs": []
    },
    {
      "cell_type": "markdown",
      "metadata": {
        "id": "RRLhkdmYjE6L"
      },
      "source": [
        "3. EVENT LIST"
      ]
    },
    {
      "cell_type": "code",
      "metadata": {
        "id": "CGSyauAqjE6O"
      },
      "source": [
        "#cleaning for EVENTS - 2021 ONLY\n",
        "shopper_list = events['shoppers.items'].str.len()\n",
        "events['shoppers.count']=shopper_list\n",
        "#merge with stores\n",
        "esn = events.merge(stores, on=\"store_id\",how=\"left\")\n",
        "esn = esn[['event_id', 'display_name', 'store_name', 'retailer.name','from_date','to_date','shoppers.count',\n",
        "                                     'shoppers.items','createdAt', 'updatedAt', 'url', 'retailer_id', 'store_id']].copy()\n",
        "#apply cleaning function\n",
        "esn = clean_event(esn)\n",
        "esn = clean_event(esn).sort_values('from_date',ascending=False)\n",
        "\n",
        "#GOOGLE SHEETS CONNECTION\n",
        "wb = gc.open_by_url('https://docs.google.com/spreadsheets/d/1J813SLIQ9eQrvOUQzvCr80Jzl2tZGlfJq9jf0Tn-xps/edit#gid=1274830999')\n",
        "sheet = wb.worksheet('events')\n",
        "set_with_dataframe(sheet,esn)\n",
        "print ('The sheet is updated successfully')"
      ],
      "execution_count": 4,
      "outputs": []
    },
    {
      "cell_type": "markdown",
      "metadata": {
        "id": "_X4ZGoinjE6P"
      },
      "source": [
        "Store List For Store Monitoring"
      ]
    },
    {
      "cell_type": "code",
      "metadata": {
        "id": "ZdU1ulKQjE6P",
        "colab": {
          "base_uri": "https://localhost:8080/"
        },
        "outputId": "c84555b6-654c-4f08-a628-cb0b0034850d"
      },
      "source": [
        "#Store Lists\n",
        "cleaned_stores = clean_stores(stores)\n",
        "cleaned_stores\n",
        "#GOOGLE SHEETS CONNECTION\n",
        "sheet = wb.worksheet('Stores-Alert')\n",
        "set_with_dataframe(sheet,cleaned_stores)\n",
        "print ('The sheet is updated successfully')"
      ],
      "execution_count": 17,
      "outputs": [
        {
          "output_type": "stream",
          "text": [
            "The sheet is updated successfully\n"
          ],
          "name": "stdout"
        }
      ]
    },
    {
      "cell_type": "markdown",
      "metadata": {
        "id": "7r7iFMQMjE6Q"
      },
      "source": [
        "4. BAG LOOP"
      ]
    },
    {
      "cell_type": "code",
      "metadata": {
        "scrolled": true,
        "id": "f06Z0Wh2jE6Q",
        "colab": {
          "base_uri": "https://localhost:8080/"
        },
        "outputId": "9770d817-f2bf-4df4-9ddb-b9a7c4faace6"
      },
      "source": [
        "listRetailer = clean_retailer(listRetailer).copy()\n",
        "listRetailers_cleaned = listRetailer['id']\n",
        "masterBagList = []\n",
        "for l in listRetailers_cleaned:\n",
        "    i = getBagsByRetailer(l)\n",
        "    masterBagList.append(i)\n",
        "    total_bags=pd.concat(masterBagList,keys=listRetailer['name'])\n",
        "b = cleanBagList(total_bags)\n",
        "c = removing(b)\n",
        "total_bags = c[['bag_id','shopper.email',  'event.display_name', 'event.store.name','event.store.retailer.name', \n",
        "                'total','retailer_total','sub_total','num_of_items',\n",
        "                'fulfillment_type','createdAt','payment.createdAt','line_items',\n",
        "                'shopper_id','event.id','shipping_fee', 'shopper.display_name',\n",
        "                'shipping.name', 'shipping.address_line_1',\n",
        "                'shipping.address_line_2', 'shipping.city', 'shipping.state',\n",
        "                'shipping.postal_code', 'shipping.email']].copy()"
      ],
      "execution_count": 18,
      "outputs": [
        {
          "output_type": "stream",
          "text": [
            "getBagsByRetailer query is 200\n"
          ],
          "name": "stdout"
        },
        {
          "output_type": "stream",
          "text": [
            "/usr/local/lib/python3.7/dist-packages/ipykernel_launcher.py:64: FutureWarning: pandas.io.json.json_normalize is deprecated, use pandas.json_normalize instead\n"
          ],
          "name": "stderr"
        },
        {
          "output_type": "stream",
          "text": [
            "getBagsByRetailer query is 200\n",
            "getBagsByRetailer query is 200\n",
            "getBagsByRetailer query is 200\n",
            "getBagsByRetailer query is 200\n",
            "getBagsByRetailer query is 200\n",
            "getBagsByRetailer query is 200\n",
            "getBagsByRetailer query is 200\n",
            "getBagsByRetailer query is 200\n",
            "getBagsByRetailer query is 200\n",
            "getBagsByRetailer query is 200\n",
            "getBagsByRetailer query is 200\n",
            "getBagsByRetailer query is 200\n",
            "getBagsByRetailer query is 200\n",
            "getBagsByRetailer query is 200\n",
            "getBagsByRetailer query is 200\n"
          ],
          "name": "stdout"
        }
      ]
    },
    {
      "cell_type": "code",
      "metadata": {
        "id": "Z28yzNvyjE6Q",
        "colab": {
          "base_uri": "https://localhost:8080/"
        },
        "outputId": "c7cd2b7d-a49d-4cc4-8e1f-4b0b0269f263"
      },
      "source": [
        "sheet = wb.worksheet('bags_raw_2021')\n",
        "set_with_dataframe(sheet,total_bags)\n",
        "print ('The sheet is updated successfully')"
      ],
      "execution_count": 19,
      "outputs": [
        {
          "output_type": "stream",
          "text": [
            "The sheet is updated successfully\n"
          ],
          "name": "stdout"
        }
      ]
    },
    {
      "cell_type": "markdown",
      "metadata": {
        "id": "Jut5AtP6jE6Q"
      },
      "source": [
        "5. Bag Details"
      ]
    },
    {
      "cell_type": "code",
      "metadata": {
        "id": "n_KW14aBjE6R"
      },
      "source": [
        "a = list(total_bags['line_items'])\n",
        "b = list(total_bags['bag_id'])\n",
        "sku_id = []\n",
        "retailer_sku_id = []\n",
        "sku_name = []\n",
        "quantity = []\n",
        "list_price = []\n",
        "price = []\n",
        "size = []\n",
        "color = []\n",
        "bag_id = []\n",
        "for idx, l in enumerate(a):\n",
        "    for i in l:\n",
        "        map(''.join, i)\n",
        "        sku_id.append(i['sku_id'])\n",
        "        retailer_sku_id.append(i['retailer_sku_id'])\n",
        "        sku_name.append(i['name'])\n",
        "        quantity.append(i['quantity'])\n",
        "        list_price.append(i['list_price'])\n",
        "        price.append(i['price'])\n",
        "        size.append(i['size'])\n",
        "        color.append(i['color'])\n",
        "        bag_id.append(b[idx])\n",
        "        \n",
        "        \n",
        "        \n",
        "bag_details = pd.DataFrame(\n",
        "    {'sku_id':sku_id,\n",
        "     'retailer_sku_id':retailer_sku_id,\n",
        "     'sku_name':sku_name,\n",
        "     'quantity':quantity,\n",
        "     'list_price':list_price,\n",
        "     'price':price,\n",
        "     'size':size,\n",
        "     'color':color,\n",
        "     'bag_id':bag_id\n",
        "    } \n",
        ")\n",
        "\n",
        "bag_details = bag_details.merge(total_bags,on='bag_id',how='left')\n",
        "#clean total to divide by 100\n",
        "bag_details['price'] = bag_details['price'].div(100).round(2)\n",
        "bag_details['list_price'] = bag_details['list_price'].div(100).round(2)\n",
        "bag_details['fulfillment_type'].fillna(value='',inplace=True)\n",
        "bag_details['payment.createdAt'].fillna(value='',inplace=True)\n",
        "\n",
        "#GOOGLE CONNECTION\n",
        "sheet = wb.worksheet('details')\n",
        "set_with_dataframe(sheet,bag_details)\n",
        "print ('The sheet is updated successfully')"
      ],
      "execution_count": 21,
      "outputs": []
    },
    {
      "cell_type": "markdown",
      "metadata": {
        "id": "r0FSE4_sjE6R"
      },
      "source": [
        "6. SHOPPER LOOP"
      ]
    },
    {
      "cell_type": "code",
      "metadata": {
        "scrolled": true,
        "id": "ImAAVBgIjE6S",
        "colab": {
          "base_uri": "https://localhost:8080/"
        },
        "outputId": "42ce3c74-e542-4773-f550-95b7b858cf3e"
      },
      "source": [
        "#Shopper GetQuery Loop\n",
        "listRetailer = clean_retailer(listRetailer).copy()\n",
        "listRetailers_cleaned = listRetailer['id']\n",
        "masterShopperList = []\n",
        "for l in listRetailers_cleaned:\n",
        "    i = getShoppersByRetailer(l)\n",
        "    masterShopperList.append(i)\n",
        "    total_shoppers=pd.concat(masterShopperList,keys=listRetailer['name'])\n",
        "b = cleanShopperList(total_shoppers)\n",
        "c = removing(b)\n",
        "shoppers = c[['shopper.email','event.id', 'shopper_event_id', 'createdAt','event.display_name',\n",
        "                      'event.store.name','event.store.retailer.name','shopper.display_name','email_name','email_address','event.from_date']].copy()"
      ],
      "execution_count": 23,
      "outputs": [
        {
          "output_type": "stream",
          "text": [
            "getShoppersByRetailer query is 200\n"
          ],
          "name": "stdout"
        },
        {
          "output_type": "stream",
          "text": [
            "/usr/local/lib/python3.7/dist-packages/ipykernel_launcher.py:103: FutureWarning: pandas.io.json.json_normalize is deprecated, use pandas.json_normalize instead\n"
          ],
          "name": "stderr"
        },
        {
          "output_type": "stream",
          "text": [
            "getShoppersByRetailer query is 200\n",
            "getShoppersByRetailer query is 200\n",
            "getShoppersByRetailer query is 200\n",
            "getShoppersByRetailer query is 200\n",
            "getShoppersByRetailer query is 200\n",
            "getShoppersByRetailer query is 200\n",
            "getShoppersByRetailer query is 200\n",
            "getShoppersByRetailer query is 200\n",
            "getShoppersByRetailer query is 200\n",
            "getShoppersByRetailer query is 200\n",
            "getShoppersByRetailer query is 200\n",
            "getShoppersByRetailer query is 200\n",
            "getShoppersByRetailer query is 200\n",
            "getShoppersByRetailer query is 200\n",
            "getShoppersByRetailer query is 200\n"
          ],
          "name": "stdout"
        }
      ]
    },
    {
      "cell_type": "code",
      "metadata": {
        "id": "Pk7AxwDCjE6S",
        "colab": {
          "base_uri": "https://localhost:8080/"
        },
        "outputId": "703a5769-48bd-44f7-84a6-292f55775743"
      },
      "source": [
        "sheet = wb.worksheet('shoppers')\n",
        "set_with_dataframe(sheet,shoppers,1,2)\n",
        "print ('The sheet is updated successfully')"
      ],
      "execution_count": 26,
      "outputs": [
        {
          "output_type": "stream",
          "text": [
            "The sheet is updated successfully\n"
          ],
          "name": "stdout"
        }
      ]
    },
    {
      "cell_type": "markdown",
      "metadata": {
        "id": "HRHJkZgojE6T"
      },
      "source": [
        "7. PAYMENT LOOP"
      ]
    },
    {
      "cell_type": "code",
      "metadata": {
        "scrolled": true,
        "id": "AxaI3YPnjE6T",
        "colab": {
          "base_uri": "https://localhost:8080/"
        },
        "outputId": "ae9a4df9-f396-4884-80f3-e8e9dc092f1c"
      },
      "source": [
        "#Payments GetQuery Loop\n",
        "listRetailer = clean_retailer(listRetailer).copy()\n",
        "listRetailers_cleaned = listRetailer['id']\n",
        "masterPaymentList = []\n",
        "for l in listRetailers_cleaned:\n",
        "    i = getPaymentsByRetailer(l)\n",
        "    masterPaymentList.append(i)\n",
        "    total_payments=pd.concat(masterPaymentList,keys=listRetailer['name'])\n",
        "b = cleanPayList(total_payments)\n",
        "c = removing(b)\n",
        "payments = c[['id', 'bag.event.store.retailer.id', 'createdAt', 'bag.event.store.id', 'bag.id',\n",
        "              'event.id', 'sub_total', 'bag.tax', 'retailer_total', 'total','service_fee', 'shipping_fee', \n",
        "              'bag.fulfillment_type', 'shopper.email', 'line_items', \n",
        "              'bag.shipping.name', 'bag.shipping.address_line_1','bag.shipping.address_line_2', \n",
        "              'bag.shipping.city','bag.shipping.state', 'bag.shipping.postal_code', \n",
        "              'bag.shipping.email','num_of_items', 'email_name', 'email_address',\n",
        "              'bag.shipping_method','event.display_name','event.from_date','status',\n",
        "              'bag.event.store.retailer.name','bag.event.store.name']].copy()"
      ],
      "execution_count": 27,
      "outputs": [
        {
          "output_type": "stream",
          "text": [
            "getPaymentsByStatus query is 200\n"
          ],
          "name": "stdout"
        },
        {
          "output_type": "stream",
          "text": [
            "/usr/local/lib/python3.7/dist-packages/ipykernel_launcher.py:171: FutureWarning: pandas.io.json.json_normalize is deprecated, use pandas.json_normalize instead\n"
          ],
          "name": "stderr"
        },
        {
          "output_type": "stream",
          "text": [
            "getPaymentsByStatus query is 200\n",
            "getPaymentsByStatus query is 200\n",
            "getPaymentsByStatus query is 200\n",
            "getPaymentsByStatus query is 200\n",
            "getPaymentsByStatus query is 200\n",
            "getPaymentsByStatus query is 200\n",
            "getPaymentsByStatus query is 200\n",
            "getPaymentsByStatus query is 200\n",
            "getPaymentsByStatus query is 200\n",
            "getPaymentsByStatus query is 200\n",
            "getPaymentsByStatus query is 200\n",
            "getPaymentsByStatus query is 200\n",
            "getPaymentsByStatus query is 200\n",
            "getPaymentsByStatus query is 200\n",
            "getPaymentsByStatus query is 200\n"
          ],
          "name": "stdout"
        }
      ]
    },
    {
      "cell_type": "code",
      "metadata": {
        "id": "76diNuxUjE6T",
        "colab": {
          "base_uri": "https://localhost:8080/"
        },
        "outputId": "6f4bdce2-9352-4d65-e391-c69b06c2249e"
      },
      "source": [
        "sheet = wb.worksheet('Paid_items')\n",
        "set_with_dataframe(sheet,payments)\n",
        "print ('The sheet is updated successfully')"
      ],
      "execution_count": 28,
      "outputs": [
        {
          "output_type": "stream",
          "text": [
            "The sheet is updated successfully\n"
          ],
          "name": "stdout"
        }
      ]
    },
    {
      "cell_type": "markdown",
      "metadata": {
        "id": "1WGkFiB8jE6U"
      },
      "source": [
        "8. PAID-LINE-ITEMS"
      ]
    },
    {
      "cell_type": "code",
      "metadata": {
        "id": "tEjcCrlUjE6U"
      },
      "source": [
        "#create line_items dataframe with bag_id\n",
        "a = list(payments['line_items'])\n",
        "b = list(payments['id'])\n",
        "retailer_sku_id = []\n",
        "sku_name = []\n",
        "quantity = []\n",
        "list_price = []\n",
        "price = []\n",
        "size = []\n",
        "color = []\n",
        "pay_id = []\n",
        "for idx, l in enumerate(a):\n",
        "    for i in l:\n",
        "        map(''.join, i)\n",
        "        retailer_sku_id.append(i['retailer_sku_id'])\n",
        "        sku_name.append(i['name'])\n",
        "        quantity.append(i['quantity'])\n",
        "        list_price.append(i['list_price'])\n",
        "        price.append(i['price'])\n",
        "        size.append(i['size'])\n",
        "        color.append(i['color'])\n",
        "        pay_id.append(b[idx])\n",
        "        \n",
        "        \n",
        "        \n",
        "pay_details = pd.DataFrame(\n",
        "    {'retailer_sku_id':retailer_sku_id,\n",
        "     'sku_name':sku_name,\n",
        "     'quantity':quantity,\n",
        "     'list_price':list_price,\n",
        "     'price':price,\n",
        "     'size':size,\n",
        "     'color':color,\n",
        "     'id':pay_id\n",
        "    } \n",
        ")\n",
        "\n",
        "pay_details = pay_details.merge(payments,on='id',how='left')\n",
        "\n",
        "#Google Connection\n",
        "sheet = wb.worksheet('pay_details')\n",
        "set_with_dataframe(sheet,pay_details)\n",
        "print ('The sheet is updated successfully')"
      ],
      "execution_count": 29,
      "outputs": []
    }
  ]
}